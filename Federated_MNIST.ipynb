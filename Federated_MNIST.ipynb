{
  "nbformat": 4,
  "nbformat_minor": 0,
  "metadata": {
    "colab": {
      "name": "Federated_MNIST.ipynb",
      "provenance": [],
      "authorship_tag": "ABX9TyMw/MK/rRdH7qfvlkmiX/K7",
      "include_colab_link": true
    },
    "kernelspec": {
      "name": "python3",
      "display_name": "Python 3"
    }
  },
  "cells": [
    {
      "cell_type": "markdown",
      "metadata": {
        "id": "view-in-github",
        "colab_type": "text"
      },
      "source": [
        "<a href=\"https://colab.research.google.com/github/Mastermind0100/mnist_autoencoder/blob/master/Federated_MNIST.ipynb\" target=\"_parent\"><img src=\"https://colab.research.google.com/assets/colab-badge.svg\" alt=\"Open In Colab\"/></a>"
      ]
    },
    {
      "cell_type": "code",
      "metadata": {
        "id": "vwAapE0PzlHj",
        "colab_type": "code",
        "colab": {
          "base_uri": "https://localhost:8080/",
          "height": 221
        },
        "outputId": "fb2d080e-ec78-4a4d-deac-810e9bf80a84"
      },
      "source": [
        "!pip install --quiet --upgrade tensorflow_federated"
      ],
      "execution_count": 1,
      "outputs": [
        {
          "output_type": "stream",
          "text": [
            "\u001b[K     |████████████████████████████████| 481kB 3.0MB/s \n",
            "\u001b[K     |████████████████████████████████| 174kB 10.4MB/s \n",
            "\u001b[K     |████████████████████████████████| 112kB 9.6MB/s \n",
            "\u001b[K     |████████████████████████████████| 516.2MB 27kB/s \n",
            "\u001b[K     |████████████████████████████████| 1.1MB 25.3MB/s \n",
            "\u001b[K     |████████████████████████████████| 122kB 38.1MB/s \n",
            "\u001b[K     |████████████████████████████████| 3.0MB 23.9MB/s \n",
            "\u001b[K     |████████████████████████████████| 3.0MB 30.6MB/s \n",
            "\u001b[K     |████████████████████████████████| 460kB 48.0MB/s \n",
            "\u001b[?25h  Building wheel for absl-py (setup.py) ... \u001b[?25l\u001b[?25hdone\n",
            "\u001b[31mERROR: tensorflow-metadata 0.23.0 has requirement absl-py<0.9,>=0.7, but you'll have absl-py 0.9.0 which is incompatible.\u001b[0m\n",
            "\u001b[31mERROR: datascience 0.10.6 has requirement folium==0.2.1, but you'll have folium 0.8.3 which is incompatible.\u001b[0m\n"
          ],
          "name": "stdout"
        }
      ]
    },
    {
      "cell_type": "code",
      "metadata": {
        "id": "EGG02D1D1W9b",
        "colab_type": "code",
        "colab": {}
      },
      "source": [
        ""
      ],
      "execution_count": null,
      "outputs": []
    },
    {
      "cell_type": "code",
      "metadata": {
        "id": "dAuPUO2u013A",
        "colab_type": "code",
        "colab": {}
      },
      "source": [
        "import tensorflow as tf\n",
        "import tensorflow_federated as tff"
      ],
      "execution_count": 2,
      "outputs": []
    }
  ]
}